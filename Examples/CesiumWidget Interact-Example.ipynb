{
 "cells": [
  {
   "cell_type": "markdown",
   "metadata": {},
   "source": [
    "# Cesium Widget Example\n",
    "This is an example notebook to sow how to *bind* the [Cesiumjs](http://cesiumjs.org/index.html) with the [IPython interactive widget system](https://github.com/ipython/ipywidgets)."
   ]
  },
  {
   "cell_type": "code",
   "execution_count": null,
   "metadata": {
    "collapsed": true
   },
   "outputs": [],
   "source": [
    "from CesiumWidget import CesiumWidget\n",
    "from IPython import display\n",
    "from czml_example import simple_czml, complex_czml"
   ]
  },
  {
   "cell_type": "markdown",
   "metadata": {},
   "source": [
    "The code:\n",
    "\n",
    "```from czml_example import simple_czml, complex_czml```\n",
    "\n",
    "Simply import some [CZML]() data for the viewer to display."
   ]
  },
  {
   "cell_type": "markdown",
   "metadata": {},
   "source": [
    "**Create widget object**"
   ]
  },
  {
   "cell_type": "code",
   "execution_count": null,
   "metadata": {
    "collapsed": false
   },
   "outputs": [],
   "source": [
    "cesiumExample = CesiumWidget(width=\"100%\", enable_lighting=True)"
   ]
  },
  {
   "cell_type": "markdown",
   "metadata": {},
   "source": [
    "**Display the widget:**"
   ]
  },
  {
   "cell_type": "code",
   "execution_count": null,
   "metadata": {
    "collapsed": true
   },
   "outputs": [],
   "source": [
    "cesiumExample"
   ]
  },
  {
   "cell_type": "markdown",
   "metadata": {},
   "source": [
    "**Add some data to the viewer**\n",
    "\n",
    "* A simple czml"
   ]
  },
  {
   "cell_type": "code",
   "execution_count": null,
   "metadata": {
    "collapsed": true
   },
   "outputs": [],
   "source": [
    "cesiumExample.czml = simple_czml"
   ]
  },
  {
   "cell_type": "markdown",
   "metadata": {},
   "source": [
    "* A more complex CZML example"
   ]
  },
  {
   "cell_type": "code",
   "execution_count": null,
   "metadata": {
    "collapsed": true
   },
   "outputs": [],
   "source": [
    "cesiumExample.czml = complex_czml"
   ]
  },
  {
   "cell_type": "markdown",
   "metadata": {},
   "source": [
    "Now let's make some interactive widget:"
   ]
  },
  {
   "cell_type": "code",
   "execution_count": null,
   "metadata": {
    "collapsed": true
   },
   "outputs": [],
   "source": [
    "from __future__ import print_function\n",
    "from ipywidgets import interact, interactive, fixed\n",
    "from ipywidgets import widgets"
   ]
  },
  {
   "cell_type": "markdown",
   "metadata": {},
   "source": [
    "* store the CZML objet in a dictionary and use their name as ```keys```\n",
    "* define a function to switch between CZML\n",
    "* bind the IPython intercat class to the function"
   ]
  },
  {
   "cell_type": "code",
   "execution_count": null,
   "metadata": {
    "collapsed": true
   },
   "outputs": [],
   "source": [
    "myczml = {'simple_czml':simple_czml, 'complex_czml':complex_czml}"
   ]
  },
  {
   "cell_type": "code",
   "execution_count": null,
   "metadata": {
    "collapsed": true
   },
   "outputs": [],
   "source": [
    "myplace = {'Eboli, IT':'', 'Woods Hole, MA':'', 'Durham, NH':''}"
   ]
  },
  {
   "cell_type": "code",
   "execution_count": null,
   "metadata": {
    "collapsed": false
   },
   "outputs": [],
   "source": [
    "import geocoder\n",
    "import time\n",
    "for i in myplace.keys():\n",
    "    g = geocoder.google(i)\n",
    "    print(g.latlng)\n",
    "    myplace[i]=g.latlng"
   ]
  },
  {
   "cell_type": "code",
   "execution_count": null,
   "metadata": {
    "collapsed": false
   },
   "outputs": [],
   "source": [
    "myplace"
   ]
  },
  {
   "cell_type": "code",
   "execution_count": null,
   "metadata": {
    "collapsed": false
   },
   "outputs": [],
   "source": [
    "@interact(z=(0,20000000), heading=(-180,180), pitch=(-90,90), roll=(-360,360), \n",
    "          Location=('Eboli, IT','Woods Hole, MA','Durham, NH'))\n",
    "def f(z=1000000, heading=0, pitch=-90, roll=0, Location='Eboli, IT'):\n",
    "    cesiumExample.zoom_to(myplace[Location][1], myplace[Location][0], z, heading, pitch, roll)\n",
    "@interact(CZML=('simple_czml','complex_czml'))\n",
    "def c(CZML=None):\n",
    "    cesiumExample.czml = myczml[CZML]"
   ]
  },
  {
   "cell_type": "code",
   "execution_count": null,
   "metadata": {
    "collapsed": true
   },
   "outputs": [],
   "source": [
    "cesiumExample"
   ]
  },
  {
   "cell_type": "code",
   "execution_count": null,
   "metadata": {
    "collapsed": true
   },
   "outputs": [],
   "source": []
  }
 ],
 "metadata": {
  "hide_input": true,
  "kernelspec": {
   "display_name": "Python 3",
   "language": "python",
   "name": "python3"
  },
  "language_info": {
   "codemirror_mode": {
    "name": "ipython",
    "version": 3
   },
   "file_extension": ".py",
   "mimetype": "text/x-python",
   "name": "python",
   "nbconvert_exporter": "python",
   "pygments_lexer": "ipython3",
   "version": "3.4.3"
  },
  "latex_envs": {
   "bibliofile": "biblio.bib",
   "cite_by": "apalike",
   "current_citInitial": 1,
   "eqLabelWithNumbers": true,
   "eqNumInitial": 0
  }
 },
 "nbformat": 4,
 "nbformat_minor": 0
}
