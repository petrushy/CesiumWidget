{
 "cells": [
  {
   "cell_type": "markdown",
   "metadata": {},
   "source": [
    "# [CesiumWidget](https://github.com/petrushy/CesiumWidget)\n",
    "Try one of the examples below!"
   ]
  },
  {
   "cell_type": "code",
   "execution_count": 5,
   "metadata": {},
   "outputs": [
    {
     "data": {
      "text/plain": [
       "<IPython.core.display.Markdown object>"
      ]
     },
     "execution_count": 5,
     "output_type": "execute_result",
     "metadata": {}
    }
   ],
   "source": [
    "# just generating the list here, nothing to see...\n",
    "from IPython.display import Markdown\n",
    "from glob import glob\n",
    "Markdown(\"\\n\".join([\n",
    "    '- ## <a href=\"Examples/{}.ipynb\" target=\"_blank\">{}</a>'.format(x[9:-6].replace(\"_\", \" \"), x)\n",
    "    for x in sorted(glob(\"Examples/*.ipynb\"))\n",
    "]))"
   ]
  },
  {
   "cell_type": "markdown",
   "metadata": {},
   "source": [
    "## Screenshot\n",
    "![](./screenshot.jpg)"
   ]
  }
 ],
 "metadata": {
  "kernelspec": {
   "display_name": "Python 3",
   "language": "python",
   "name": "python3"
  },
  "language_info": {
   "codemirror_mode": {
    "name": "ipython",
    "version": 3.0
   },
   "file_extension": ".py",
   "mimetype": "text/x-python",
   "name": "python",
   "nbconvert_exporter": "python",
   "pygments_lexer": "ipython3",
   "version": "3.5.0"
  }
 },
 "nbformat": 4,
 "nbformat_minor": 0
}